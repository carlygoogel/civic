{
  "cells": [
    {
      "cell_type": "code",
      "execution_count": 1,
      "metadata": {
        "colab": {
          "base_uri": "https://localhost:8080/"
        },
        "id": "_X8Y-wmT2t2p",
        "outputId": "efc133f0-54d6-413f-f7a2-dfb6a349e23f"
      },
      "outputs": [
        {
          "name": "stdout",
          "output_type": "stream",
          "text": [
            "Collecting huggingface_hub\n",
            "  Downloading huggingface_hub-0.26.2-py3-none-any.whl (447 kB)\n",
            "\u001b[K     |████████████████████████████████| 447 kB 7.0 MB/s eta 0:00:01\n",
            "\u001b[?25hRequirement already satisfied: typing-extensions>=3.7.4.3 in /Users/srikargudimella/Library/Python/3.10/lib/python/site-packages (from huggingface_hub) (4.12.2)\n",
            "Requirement already satisfied: pyyaml>=5.1 in /Library/Frameworks/Python.framework/Versions/3.10/lib/python3.10/site-packages (from huggingface_hub) (6.0.2)\n",
            "Requirement already satisfied: filelock in /Library/Frameworks/Python.framework/Versions/3.10/lib/python3.10/site-packages (from huggingface_hub) (3.16.1)\n",
            "Requirement already satisfied: tqdm>=4.42.1 in /Library/Frameworks/Python.framework/Versions/3.10/lib/python3.10/site-packages (from huggingface_hub) (4.66.5)\n",
            "Requirement already satisfied: requests in /Library/Frameworks/Python.framework/Versions/3.10/lib/python3.10/site-packages (from huggingface_hub) (2.32.3)\n",
            "Requirement already satisfied: fsspec>=2023.5.0 in /Library/Frameworks/Python.framework/Versions/3.10/lib/python3.10/site-packages (from huggingface_hub) (2024.9.0)\n",
            "Requirement already satisfied: packaging>=20.9 in /Users/srikargudimella/Library/Python/3.10/lib/python/site-packages (from huggingface_hub) (24.1)\n",
            "Requirement already satisfied: certifi>=2017.4.17 in /Library/Frameworks/Python.framework/Versions/3.10/lib/python3.10/site-packages (from requests->huggingface_hub) (2024.8.30)\n",
            "Requirement already satisfied: urllib3<3,>=1.21.1 in /Library/Frameworks/Python.framework/Versions/3.10/lib/python3.10/site-packages (from requests->huggingface_hub) (2.2.3)\n",
            "Requirement already satisfied: charset-normalizer<4,>=2 in /Library/Frameworks/Python.framework/Versions/3.10/lib/python3.10/site-packages (from requests->huggingface_hub) (3.4.0)\n",
            "Requirement already satisfied: idna<4,>=2.5 in /Library/Frameworks/Python.framework/Versions/3.10/lib/python3.10/site-packages (from requests->huggingface_hub) (3.10)\n",
            "Installing collected packages: huggingface-hub\n",
            "Successfully installed huggingface-hub-0.26.2\n",
            "\u001b[33mWARNING: You are using pip version 21.2.3; however, version 24.3.1 is available.\n",
            "You should consider upgrading via the '/usr/local/bin/python3 -m pip install --upgrade pip' command.\u001b[0m\n",
            "Note: you may need to restart the kernel to use updated packages.\n"
          ]
        }
      ],
      "source": [
        "%pip install huggingface_hub\n"
      ]
    },
    {
      "cell_type": "code",
      "execution_count": 2,
      "metadata": {
        "id": "wAO-B23-AxDN"
      },
      "outputs": [
        {
          "name": "stderr",
          "output_type": "stream",
          "text": [
            "/Library/Frameworks/Python.framework/Versions/3.10/lib/python3.10/site-packages/tqdm/auto.py:21: TqdmWarning: IProgress not found. Please update jupyter and ipywidgets. See https://ipywidgets.readthedocs.io/en/stable/user_install.html\n",
            "  from .autonotebook import tqdm as notebook_tqdm\n"
          ]
        }
      ],
      "source": [
        "from huggingface_hub import InferenceClient\n",
        "\n",
        "client = InferenceClient(api_key=(ENV.Secret)"
      ]
    },
    {
      "cell_type": "code",
      "execution_count": 3,
      "metadata": {
        "id": "qQxIaq7uA_NA"
      },
      "outputs": [],
      "source": [
        "topics = [\n",
        "    \"Abortion\",\n",
        "    \"Agriculture\",\n",
        "    \"Animal Rights\",\n",
        "    \"Appropriations\",\n",
        "    \"Athletics and Sports\",\n",
        "    \"Banking and Financial Services\",\n",
        "    \"Border Security\",\n",
        "    \"Budget\",\n",
        "    \"Campaign Finance Reform\",\n",
        "    \"Child Abuse\",\n",
        "    \"Child Welfare and Health\",\n",
        "    \"Civil Liberties/Privacy\",\n",
        "    \"Climate Change\",\n",
        "    \"Commerce\",\n",
        "    \"Community/Economic Development\",\n",
        "    \"Consumer Protection\",\n",
        "    \"COVID Relief\",\n",
        "    \"Debt Ceiling\",\n",
        "    \"Defense and Military\",\n",
        "    \"Disabilities\",\n",
        "    \"Education\",\n",
        "    \"Election Security\",\n",
        "    \"Energy\",\n",
        "    \"Environment\",\n",
        "    \"Ethics and Rules\",\n",
        "    \"Foreign Affairs\",\n",
        "    \"Guns\",\n",
        "    \"Healthcare\",\n",
        "    \"Homeland Security\",\n",
        "    \"Housing\",\n",
        "    \"Immigration\",\n",
        "    \"Intelligence\",\n",
        "    \"Interior\",\n",
        "    \"Judges\",\n",
        "    \"Judiciary\",\n",
        "    \"Labor\",\n",
        "    \"Law Enforcement\",\n",
        "    \"Native Americans\",\n",
        "    \"Nutrition\",\n",
        "    \"Postal Service\",\n",
        "    \"Refugees\",\n",
        "    \"Science and Innovation\",\n",
        "    \"Senior Citizens\",\n",
        "    \"Social Security and Retirement\",\n",
        "    \"Surveillance\",\n",
        "    \"Taxes\",\n",
        "    \"Technology\",\n",
        "    \"Trade\",\n",
        "    \"Transportation\",\n",
        "    \"Veterans\",\n",
        "    \"Voting Rights\"\n",
        "]"
      ]
    },
    {
      "cell_type": "code",
      "execution_count": null,
      "metadata": {},
      "outputs": [],
      "source": [
        "### JSON Object Format\n",
        "# {\n",
        "    # - prefix\n",
        "    # - first_name\n",
        "    # - last_name\n",
        "    # - street_address\n",
        "    # - city\n",
        "    # - state\n",
        "    # - zip_code\n",
        "    # - email\n",
        "    # - phone_number\n",
        "    # - message_subject\n",
        "    # - message_body# }\n"
      ]
    },
    {
      "cell_type": "code",
      "execution_count": 61,
      "metadata": {
        "id": "Gu1F4d52BNwA"
      },
      "outputs": [],
      "source": [
        "def process_email(email_json):\n",
        "\n",
        "    email_content = email_json[\"message_body\"]\n",
        "    email_subject = email_json[\"message_subject\"]\n",
        "    sender_city = email_json[\"city\"]\n",
        "    sender_state = email_json[\"state\"]\n",
        "\n",
        "    subject_prompt = [\n",
        "        {\n",
        "            \"role\": \"user\",\n",
        "            #\"content\": f\"Can you classify this email into exactly one of the following categories (the one that is most relevant to the content of the email): {', '.join(topics)}. \"\n",
        "                       #f\"Only provide the topic name as a response. \"\n",
        "                       #f\"Email content: '{email_content}'\"\n",
        "            \"content\": f\"Read the following email and identify the main subjects or topics exactly as one of the following categories: {', '.join(topics)}. \"\n",
        "                       f\"Only provide the topic name as a response. \"\n",
        "                       f\"Email subject: '{email_subject}'\"\n",
        "                       f\"Email content: '{email_content}'\"\n",
        "        }\n",
        "    ]\n",
        "\n",
        "    classification = client.chat.completions.create(\n",
        "        model=\"meta-llama/Llama-3.2-3B-Instruct\",\n",
        "        messages=subject_prompt,\n",
        "        temperature=0.2,\n",
        "        max_tokens=10,\n",
        "        top_p=0.9,\n",
        "        stream=False\n",
        "    )\n",
        "\n",
        "    subjects = classification.choices[0].message[\"content\"].strip()\n",
        "    print(\"Identified Subject:\", subjects)\n",
        "\n",
        "    sentiment_prompt = [\n",
        "        {\n",
        "            \"role\": \"user\",\n",
        "            \"content\": f\"You just read this email: '{email_content}' and identified the main subjects to be to be '{subjects}'.\"\n",
        "                       f\"Given that the subject of the email is '{subjects}', analyze the overall sentiment of the email content as positive high, positive medium, positive low, neutral, negative low, negative medium, negative high.\"\n",
        "                       f\"Only provide 'Positive High', 'Positive Medium', 'Positive Low', 'Neutral', 'Negative Low', 'Negative Medium', 'Negative High' as a response. No other information is needed\"\n",
        "        }\n",
        "    ]\n",
        "\n",
        "    sentiment_analysis = client.chat.completions.create(\n",
        "        model=\"meta-llama/Llama-3.2-3B-Instruct\",\n",
        "        messages=sentiment_prompt,\n",
        "        temperature=0.2,\n",
        "        max_tokens=10,\n",
        "        top_p=0.9,\n",
        "        stream=False\n",
        "    )\n",
        "\n",
        "    sentiment = sentiment_analysis.choices[0].message[\"content\"].strip()\n",
        "    print(\"Identified Sentiment:\", sentiment)\n",
        "\n",
        "    subtopic_prompt = [\n",
        "        {\n",
        "            \"role\": \"user\",\n",
        "            \"content\": f\"You have read the email: '{email_content}' and identified the subject as '{subjects}'. \"\n",
        "                       f\"Generate a single concise sentence (maximum 15 words) that captures a specific subtopic from the email content. \"\n",
        "                       f\"Your response should be only one sentence, without any additional options or explanations. \"\n",
        "                       f\"Example Email: 'Dear Congressman, I am concerned about a nearby farm dumping waste into the Truckee River, harming wildlife and our community.' \"\n",
        "                       f\"Identified Subjects: Agriculture, Environment. \"\n",
        "                       f\"Expected Output: 'Negative impact of farm waste on local waterways.'\"\n",
        "        }\n",
        "    ]\n",
        "\n",
        "    subtopic_analysis = client.chat.completions.create(\n",
        "        model=\"meta-llama/Llama-3.2-3B-Instruct\",\n",
        "        messages=subtopic_prompt,\n",
        "        temperature=0.2,\n",
        "        max_tokens=50,\n",
        "        top_p=0.9,\n",
        "        stream=False\n",
        "    )\n",
        "\n",
        "    subtopic = subtopic_analysis.choices[0].message[\"content\"].strip()\n",
        "    print(\"Identified Subtopic:\", subtopic)\n",
        "\n",
        "    # sentiment_score_prompt = [\n",
        "    #     {\n",
        "    #         \"role\": \"user\",\n",
        "    #         #\"content\": f\"You identified the sentiment to be '{sentiment}'. Given that, what sentiment score, from a range of -1 to 1, would you give?\"\n",
        "    #                    #f\"For guidance, very negative would be in the range of -1 to -0.6, negative would be in the range of -0.6 to -0.2, neutral would be in the range of -0.2 to 0.2, positive would be in the range of 0.2 to 0.6, and very positive would be in the range of 0.6 to 1.\"\n",
        "    #                    #f\"Only provide the number as a response. No other explanation, introduction, or anything else is required.\"\n",
        "\n",
        "    #         \"content\": #f\"In the sentiment scale I am using, very negative would be in the range of -1 to -0.6, negative would be in the range of -0.6 to -0.2, neutral would be in the range of -0.2 to 0.2, positive would be in the range of 0.2 to 0.6, and very positive would be in the range of 0.6 to 1.\"\n",
        "    #                    f\"You just read this email: '{email_content}' and identified the subject to be '{subject}'.\"\n",
        "    #                    f\"Then, you identified the sentiment to be '{sentiment}'. \"\n",
        "    #                    \"Given all of this, what sentiment score, from a range of -1 to 1, would you give?\"\n",
        "    #                    \"In the sentiment scale I am using, 'Very Negative' would be in the range of -1 to -0.6, 'Negative' would be in the range of -0.6 to -0.2, 'Neutral' would be in the range of -0.2 to 0.2, 'Positive' would be in the range of 0.2 to 0.6, and 'Very Positive' would be in the range of 0.6 to 1. Make sure that the sentiment you identified and the score you assign match the ranges I provided.\"\n",
        "    #                    f\"Only provide the number as a response. No other explanation, introduction, or anything else is required.\"\n",
        "    #     }\n",
        "    # ]\n",
        "\n",
        "    # sentiment_score_analysis = client.chat.completions.create(\n",
        "    #     model=\"meta-llama/Llama-3.2-3B-Instruct\",\n",
        "    #     messages=sentiment_score_prompt,\n",
        "    #     temperature=0.2,\n",
        "    #     max_tokens=5,\n",
        "    #     top_p=0.9,\n",
        "    #     stream=False\n",
        "    # )\n",
        "\n",
        "    # sentiment_score = sentiment_score_analysis.choices[0].message[\"content\"].strip()\n",
        "    # print(\"Identified Sentiment Score:\", sentiment_score)\n",
        "\n",
        "    email_json[\"topic\"] = subjects\n",
        "    email_json[\"sentiment\"] = sentiment\n",
        "    email_json[\"subtopic\"] = subtopic\n",
        "    return email_json\n"
      ]
    },
    {
      "cell_type": "code",
      "execution_count": 67,
      "metadata": {
        "colab": {
          "base_uri": "https://localhost:8080/"
        },
        "id": "n3b6lYeOVnQL",
        "outputId": "a5bf6e4a-7508-4d43-e9a4-be165f683a04"
      },
      "outputs": [
        {
          "name": "stdout",
          "output_type": "stream",
          "text": [
            "Identified Subject: trade\n",
            "Identified Sentiment: Negative High\n",
            "Identified Subtopic: Lack of transparency and consultation in trade agreement negotiations with major trading partners.\n"
          ]
        },
        {
          "data": {
            "text/plain": [
              "{'prefix': 'Ms.',\n",
              " 'first_name': 'Emily',\n",
              " 'last_name': 'Wilson',\n",
              " 'street_address': '123 Main St',\n",
              " 'city': 'San Francisco',\n",
              " 'state': 'CA',\n",
              " 'zip_code': '94101',\n",
              " 'email': 'emily.wilson@example.com',\n",
              " 'phone_number': '555-123-4567',\n",
              " 'message_body': \"Dear Congressman Johnson, I am writing to express my deep concern and disappointment regarding the recent trade agreements your administration has been negotiating with our country's largest trading partners. As a small business owner and a constituent of your district, I am appalled by the lack of transparency and consultation with stakeholders in the process. The recent tariffs imposed on our agricultural products have already had a devastating impact on my family's farm, causing significant losses and uncertainty for our future. I am not alone in my frustration, as numerous farmers and business owners in our district have reached out to me expressing similar concerns. Furthermore, I am troubled by the apparent disregard for the long-term consequences of these agreements, which will likely lead to a decline in our country's manufacturing sector and job losses. As a constituent, I expect more from my elected representatives, particularly when it comes to issues that directly affect our local economy. I urge you to reconsider your stance on these trade agreements and work towards finding a more balanced and fair solution that prioritizes the interests of American workers and businesses. I would appreciate the opportunity to discuss this matter further with you and explore alternative solutions that can benefit our community. Sincerely, Emily Wilson\",\n",
              " 'message_subject': 'Dissapointment in recent trade agreements',\n",
              " 'topic': 'trade',\n",
              " 'sentiment': 'Negative High',\n",
              " 'subtopic': 'Lack of transparency and consultation in trade agreement negotiations with major trading partners.'}"
            ]
          },
          "execution_count": 67,
          "metadata": {},
          "output_type": "execute_result"
        }
      ],
      "source": [
        "# trade\n",
        "# Very Negative\n",
        "email_content = \"Dear Congressman Johnson, I am writing to express my deep concern and disappointment regarding the recent trade agreements your administration has been negotiating with our country's largest trading partners. As a small business owner and a constituent of your district, I am appalled by the lack of transparency and consultation with stakeholders in the process. The recent tariffs imposed on our agricultural products have already had a devastating impact on my family's farm, causing significant losses and uncertainty for our future. I am not alone in my frustration, as numerous farmers and business owners in our district have reached out to me expressing similar concerns. Furthermore, I am troubled by the apparent disregard for the long-term consequences of these agreements, which will likely lead to a decline in our country's manufacturing sector and job losses. As a constituent, I expect more from my elected representatives, particularly when it comes to issues that directly affect our local economy. I urge you to reconsider your stance on these trade agreements and work towards finding a more balanced and fair solution that prioritizes the interests of American workers and businesses. I would appreciate the opportunity to discuss this matter further with you and explore alternative solutions that can benefit our community. Sincerely, Emily Wilson\"\n",
        "email_json = {  \n",
        "    \"prefix\": \"Ms.\",\n",
        "    \"first_name\": \"Emily\",\n",
        "    \"last_name\": \"Wilson\",\n",
        "    \"street_address\": \"123 Main St\",\n",
        "    \"city\": \"San Francisco\",\n",
        "    \"state\": \"CA\",\n",
        "    \"zip_code\": \"94101\",\n",
        "    \"email\": \"emily.wilson@example.com\",\n",
        "    \"phone_number\": \"555-123-4567\",\n",
        "    \"message_body\": email_content,\n",
        "    \"message_subject\": \"Dissapointment in recent trade agreements\",\n",
        "}\n",
        "classification = process_email(email_json)\n",
        "classification"
      ]
    },
    {
      "cell_type": "code",
      "execution_count": 66,
      "metadata": {
        "colab": {
          "base_uri": "https://localhost:8080/"
        },
        "id": "6eRQtgTvYH7B",
        "outputId": "21261fd4-e88f-4642-dda5-fc3c8dccd9a9"
      },
      "outputs": [
        {
          "name": "stdout",
          "output_type": "stream",
          "text": [
            "Identified Subject: guns\n",
            "Identified Sentiment: Positive High\n",
            "Identified Subtopic: Application of the Second Amendment to community gun safety concerns.\n"
          ]
        },
        {
          "data": {
            "text/plain": [
              "{'prefix': 'Ms.',\n",
              " 'first_name': 'Sarah',\n",
              " 'last_name': 'Johnson',\n",
              " 'street_address': '123 Main St',\n",
              " 'city': 'San Francisco',\n",
              " 'state': 'CA',\n",
              " 'zip_code': '94101',\n",
              " 'email': 'sarah.johnson@example.com',\n",
              " 'phone_number': '555-123-4567',\n",
              " 'message_body': \"Hey Congressman, I just wanted to reach out and say thanks for all the work you've been doing on gun control. I know it's a tough issue, but I really appreciate the effort you're putting in. My cousin was in a situation where he had to use his gun to protect himself and his family, and it was a real wake-up call for him. He's been thinking a lot about the Second Amendment and how it applies to our community, and he's come to realize that we need to be doing more to prevent gun violence. I know you're not going to agree with everything, but I think you're on the right track with some of the bills you've been proposing. I'd love to hear more about your thoughts on the matter and how we can work together to make a difference. My kids are getting older and they're starting to ask more questions about guns and gun safety, and I want to make sure they're getting the right information. Thanks again for all your hard work, and I look forward to hearing from you soon. Best, Sarah\",\n",
              " 'message_subject': 'Thank you for your work!',\n",
              " 'topic': 'guns',\n",
              " 'sentiment': 'Positive High',\n",
              " 'subtopic': 'Application of the Second Amendment to community gun safety concerns.'}"
            ]
          },
          "execution_count": 66,
          "metadata": {},
          "output_type": "execute_result"
        }
      ],
      "source": [
        "# guns\n",
        "# Very Positive\n",
        "email_content = \"Hey Congressman, I just wanted to reach out and say thanks for all the work you've been doing on gun control. I know it's a tough issue, but I really appreciate the effort you're putting in. My cousin was in a situation where he had to use his gun to protect himself and his family, and it was a real wake-up call for him. He's been thinking a lot about the Second Amendment and how it applies to our community, and he's come to realize that we need to be doing more to prevent gun violence. I know you're not going to agree with everything, but I think you're on the right track with some of the bills you've been proposing. I'd love to hear more about your thoughts on the matter and how we can work together to make a difference. My kids are getting older and they're starting to ask more questions about guns and gun safety, and I want to make sure they're getting the right information. Thanks again for all your hard work, and I look forward to hearing from you soon. Best, Sarah\"\n",
        "email_json = {\n",
        "    \"prefix\": \"Ms.\",\n",
        "    \"first_name\": \"Sarah\",\n",
        "    \"last_name\": \"Johnson\",\n",
        "    \"street_address\": \"123 Main St\",\n",
        "    \"city\": \"San Francisco\",\n",
        "    \"state\": \"CA\",\n",
        "    \"zip_code\": \"94101\",\n",
        "    \"email\": \"sarah.johnson@example.com\",\n",
        "    \"phone_number\": \"555-123-4567\",\n",
        "    \"message_body\": email_content,\n",
        "    \"message_subject\": \"Thank you for your work!\"        \n",
        "}\n",
        "classification = process_email(email_json)\n",
        "classification"
      ]
    },
    {
      "cell_type": "code",
      "execution_count": null,
      "metadata": {},
      "outputs": [],
      "source": [
        "import supabase\n",
        "from datetime import datetime\n",
        "url = \"\"\n",
        "key = \"\"\n",
        "\n",
        "supabase = supabase.create_client(url, key)\n"
      ]
    },
    {
      "cell_type": "code",
      "execution_count": 1,
      "metadata": {
        "colab": {
          "base_uri": "https://localhost:8080/"
        },
        "id": "jb27SQBsYKPG",
        "outputId": "341a47be-4aa0-465a-e0af-397fd9725d83"
      },
      "outputs": [],
      "source": [
        "\n",
        "    \n",
        "def find_sender_id(email):\n",
        "    response = supabase.table('people').select('*').eq('email', email).execute()\n",
        "    if response.data:\n",
        "        return response.data[0]['id']\n",
        "    else:\n",
        "        return None\n",
        "    \n",
        "def add_sender_to_db(sender_json):\n",
        "    supabase.table('people').insert(sender_json).execute()\n",
        "\n",
        "def add_email_to_db(email_json):\n",
        "    response = supabase.table('received_emails').insert(email_json).execute()\n",
        "\n",
        "def find_congressperson_id(email):\n",
        "    return None\n",
        "\n",
        "def find_congressional_district(email):\n",
        "    return None\n",
        "\n",
        "def find_topic_id(topic):\n",
        "    response = supabase.table('topics').select('*').eq('name', topic).execute()\n",
        "    return response.data[0]['id']\n",
        "\n",
        "def add_to_db(proecessed_email_json):\n",
        "    sender_id = find_sender_id(proecessed_email_json[\"email\"])\n",
        "    if sender_id is None:\n",
        "        sender_json = {\n",
        "            \"prefix\": proecessed_email_json[\"prefix\"],\n",
        "            \"first_name\": proecessed_email_json[\"first_name\"],\n",
        "            \"last_name\": proecessed_email_json[\"last_name\"],\n",
        "            \"email\": proecessed_email_json[\"email\"],\n",
        "            \"address\": proecessed_email_json[\"street_address\"],\n",
        "            \"city\": proecessed_email_json[\"city\"],\n",
        "            \"state\": proecessed_email_json[\"state\"],\n",
        "            \"zip_code\": proecessed_email_json[\"zip_code\"],\n",
        "            \"phone\": proecessed_email_json[\"phone_number\"],\n",
        "            \"updated_at\": datetime.now(),\n",
        "            \"congressional_district\": find_congressional_district(proecessed_email_json[\"email\"])\n",
        "        }\n",
        "        add_sender_to_db(sender_json)\n",
        "        sender_id = find_sender_id(proecessed_email_json[\"email\"])\n",
        "\n",
        "    topic_id = find_topic_id(proecessed_email_json[\"topic\"])\n",
        "    received_email_json = {\n",
        "        \"constituent_id\": sender_id,\n",
        "        \"representative_id\": None,\n",
        "        \"subject\": proecessed_email_json[\"message_subject\"],\n",
        "        \"message\": proecessed_email_json[\"message_body\"],\n",
        "        \"sentiment\": proecessed_email_json[\"sentiment\"],\n",
        "        \"subtopic\": proecessed_email_json[\"subtopic\"],\n",
        "        \"topic_id\": topic_id,\n",
        "        \"timestamp\": datetime.now()\n",
        "    }\n",
        "    add_email_to_db(received_email_json)\n",
        "    \n",
        "\n"
      ]
    },
    {
      "cell_type": "code",
      "execution_count": 2,
      "metadata": {},
      "outputs": [],
      "source": [
        "def process_form_json(form_json):\n",
        "    processed_email_json = process_email(form_json)\n",
        "    add_to_db(processed_email_json)\n",
        "\n"
      ]
    }
  ],
  "metadata": {
    "colab": {
      "provenance": []
    },
    "kernelspec": {
      "display_name": "Python 3",
      "name": "python3"
    },
    "language_info": {
      "codemirror_mode": {
        "name": "ipython",
        "version": 3
      },
      "file_extension": ".py",
      "mimetype": "text/x-python",
      "name": "python",
      "nbconvert_exporter": "python",
      "pygments_lexer": "ipython3",
      "version": "3.10.0"
    }
  },
  "nbformat": 4,
  "nbformat_minor": 0
}
